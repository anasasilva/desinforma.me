{
 "cells": [
  {
   "cell_type": "code",
   "execution_count": 57,
   "metadata": {
    "ExecuteTime": {
     "end_time": "2021-04-19T12:11:42.548441Z",
     "start_time": "2021-04-19T12:11:40.815353Z"
    },
    "init_cell": true
   },
   "outputs": [
    {
     "name": "stdout",
     "output_type": "stream",
     "text": [
      "The autoreload extension is already loaded. To reload it, use:\n",
      "  %reload_ext autoreload\n"
     ]
    }
   ],
   "source": [
    "%load_ext autoreload\n",
    "%autoreload 2\n",
    "%reload_ext autoreload\n",
    "\n",
    "import requests, datetime\n",
    "from datetime import date, timedelta\n",
    "from utils import *\n",
    "from newspaper import Article\n",
    "from IPython.display import clear_output\n",
    "from urllib.parse import urlencode, quote_plus\n",
    "from tqdm.notebook import tqdm\n",
    "import random\n",
    "from IPython.display import Image\n",
    "\n",
    "\n",
    "from loguru import logger\n",
    "logger.add(\"process.log\")\n",
    "\n",
    "import pickle"
   ]
  },
  {
   "cell_type": "code",
   "execution_count": 70,
   "metadata": {
    "ExecuteTime": {
     "end_time": "2021-04-19T12:20:05.253459Z",
     "start_time": "2021-04-19T12:20:03.496448Z"
    }
   },
   "outputs": [],
   "source": [
    "@logger.catch\n",
    "def search_arquivo_news(query: str, _from: datetime, _to: datetime, websites: [str], max_items=2000, _type=\"html\", fields=\"title,tstamp,originalURL,linkToNoFrame\"):\n",
    "    params = {\n",
    "        \"q\": '\"%s\"' % query,\n",
    "        \"from\": arquivo_date(_from),\n",
    "        \"to\": arquivo_date(_to),\n",
    "        \"siteSearch\": \",\".join(websites),\n",
    "        \"fields\": fields,\n",
    "        \"type\": _type,\n",
    "        \"maxItems\": max_items,\n",
    "        \"itemsPerSite\": max_items//len(websites),\n",
    "    }\n",
    "    \n",
    "    # itemsPerSite does not work\n",
    "    return query_arquivo(params, \"https://arquivo.pt/textsearch\", attempts=10)\n",
    "\n",
    "@logger.catch\n",
    "def get_random_arquivo_image(query: str, _from: datetime = datetime(2018,10,1), _to: datetime = date.today(), show=False):\n",
    "    params = {\n",
    "        \"q\": '\"%s\"' % query,\n",
    "        \"from\": arquivo_date(_from),\n",
    "        \"to\": arquivo_date(_to)\n",
    "    }\n",
    "    \n",
    "    response = query_arquivo(params, \"https://arquivo.pt/imagesearch\", attempts=10)\n",
    "    chosen_index = random.randint(0, len(response) - 1)\n",
    "    random_image = response[chosen_index]['imgLinkToArchive']\n",
    "    \n",
    "    if show: display(Image(url=random_image, width=300))\n",
    "    return random_image\n",
    "\n",
    "\n",
    "@logger.catch\n",
    "def query_arquivo(params, endpoint, timeout=30, attempts=1):\n",
    "    logger.info(\"[FETCHING] %s\" % endpoint + '?' + urlencode(params, quote_via=quote_plus))\n",
    "    \n",
    "    r = try_request(endpoint, params, timeout, attempts)\n",
    "    if not r: return []\n",
    "    json_response = r.json()\n",
    "    return r.json()[\"response_items\"] if \"response_items\" in json_response else r.json()[\"responseItems\"]\n",
    "\n",
    "@logger.catch\n",
    "def process_news_piece(arquivo_item):\n",
    "    \n",
    "    # Clean news piece (returns None if some scrapping error occured)\n",
    "    processing_article = clean_response_item(arquivo_item.copy())\n",
    "    if processing_article is None:\n",
    "        return {\"valid\": False}\n",
    "    \n",
    "    # Check if the arquivo link is up \n",
    "    html = try_request(processing_article[\"url\"])\n",
    "    if not html:\n",
    "        if html == False:  # resource will never be available\n",
    "            processing_article[\"valid\"] = False\n",
    "            logger.error(\"%s will never be available\" % (processing_article[\"url\"]))\n",
    "        return\n",
    "    \n",
    "    try:\n",
    "        # Process using Newspaper3k Package\n",
    "        article_obj = Article(processing_article[\"url\"], _language=\"pt\")\n",
    "        article_obj.download(input_html=html.text)\n",
    "        article_obj.parse()\n",
    "        article_obj.nlp()\n",
    "        \n",
    "        processing_article[\"text\"] = assert_valid_article(article_obj)\n",
    "        processing_article[\"image\"] = article_obj.top_image\n",
    "        processing_article[\"summary\"] = article_obj.summary\n",
    "        processing_article[\"summary_entities\"], duplicates = organize_entities(processing_article[\"text\"])\n",
    "        processing_article[\"title_entities\"], _ = organize_entities(processing_article[\"title\"], duplicates)\n",
    "        processing_article[\"valid\"] = True\n",
    "        \n",
    "    except Exception as e:\n",
    "#         print(e.with_traceback())\n",
    "        logger.error(\"[Exception] \" + str(e))\n",
    "        processing_article[\"valid\"] = False\n",
    "        \n",
    "    return processing_article\n",
    "\n",
    "# process_news_piece(news[223])"
   ]
  },
  {
   "cell_type": "code",
   "execution_count": 39,
   "metadata": {
    "ExecuteTime": {
     "end_time": "2021-04-19T11:23:53.669382Z",
     "start_time": "2021-04-19T11:21:57.682379Z"
    },
    "scrolled": false
   },
   "outputs": [
    {
     "name": "stderr",
     "output_type": "stream",
     "text": [
      "2021-04-19 12:21:59.575 | DEBUG    | __main__:query_news:20 - [FETCHING] https://arquivo.pt/textsearch?q=%22%22&from=20181001000000&to=20210419000000&siteSearch=publico.pt+noticia+-js+%2Cacervo.publico.pt+noticia+-js+&fields=title%2Ctstamp%2CoriginalURL%2ClinkToNoFrame&type=html&maxItems=2000&itemsPerSite=1000\n",
      "2021-04-19 12:22:02.054 | DEBUG    | __main__:query_news:20 - [FETCHING] https://arquivo.pt/textsearch?q=%22%22&from=20181001000000&to=20210419000000&siteSearch=expresso.pt+2018%2Cexpresso.pt+2019%2Cexpresso.pt+2020%2Cexpresso.sapo.pt+2018%2Cexpresso.sapo.pt+2019%2Cexpresso.sapo.pt+2020&fields=title%2Ctstamp%2CoriginalURL%2ClinkToNoFrame&type=html&maxItems=2000&itemsPerSite=333\n",
      "2021-04-19 12:22:32.130 | ERROR    | utils:try_request:34 - [HTTPSConnectionPool(host='arquivo.pt', port=443): Read timed out. (read timeout=30)] for [{'q': '\"\"', 'from': '20181001000000', 'to': '20210419000000', 'siteSearch': 'expresso.pt 2018,expresso.pt 2019,expresso.pt 2020,expresso.sapo.pt 2018,expresso.sapo.pt 2019,expresso.sapo.pt 2020', 'fields': 'title,tstamp,originalURL,linkToNoFrame', 'type': 'html', 'maxItems': 2000, 'itemsPerSite': 333}] (attempt 1/10)\n",
      "2021-04-19 12:23:07.203 | ERROR    | utils:try_request:34 - [HTTPSConnectionPool(host='arquivo.pt', port=443): Read timed out. (read timeout=35)] for [{'q': '\"\"', 'from': '20181001000000', 'to': '20210419000000', 'siteSearch': 'expresso.pt 2018,expresso.pt 2019,expresso.pt 2020,expresso.sapo.pt 2018,expresso.sapo.pt 2019,expresso.sapo.pt 2020', 'fields': 'title,tstamp,originalURL,linkToNoFrame', 'type': 'html', 'maxItems': 2000, 'itemsPerSite': 333}] (attempt 2/10)\n",
      "2021-04-19 12:23:44.400 | DEBUG    | __main__:query_news:20 - [FETCHING] https://arquivo.pt/textsearch?q=%22%22&from=20181001000000&to=20210419000000&siteSearch=www.dn.pt+politica%2Cwww.dn.pt+sociedade%2Cdn.sapo.pt+politica%2Cdn.sapo.pt+sociedade&fields=title%2Ctstamp%2CoriginalURL%2ClinkToNoFrame&type=html&maxItems=2000&itemsPerSite=500\n",
      "2021-04-19 12:23:47.107 | DEBUG    | __main__:query_news:20 - [FETCHING] https://arquivo.pt/textsearch?q=%22%22&from=20181001000000&to=20210419000000&siteSearch=visao.sapo.pt+2018%2Cvisao.sapo.pt+2019%2Cvisao.sapo.pt+2020&fields=title%2Ctstamp%2CoriginalURL%2ClinkToNoFrame&type=html&maxItems=2000&itemsPerSite=666\n"
     ]
    },
    {
     "name": "stdout",
     "output_type": "stream",
     "text": [
      "In total 1279 arquivo items. The first 5 items are:\n",
      "\n",
      "[{'title': 'Praga de baratas “grandes” aflige Parque das Nações | Lisboa | PÚBLICO', 'originalURL': 'http://publico.pt/2019/08/29/local/noticia/baratas-parque-nacoes-1884816', 'tstamp': '20190831150457', 'linkToNoFrame': 'https://arquivo.pt/noFrame/replay/20190831150457/http://publico.pt/2019/08/29/local/noticia/baratas-parque-nacoes-1884816'}, {'title': 'Mais de 50 crianças adoptadas foram devolvidas nos últimos três anos | Adopção | PÚBLICO', 'originalURL': 'http://publico.pt/2019/07/30/sociedade/noticia/ultimos-tres-anos-devolvidas-53-criancas-adopcao-1881728', 'tstamp': '20190831150900', 'linkToNoFrame': 'https://arquivo.pt/noFrame/replay/20190831150900/http://publico.pt/2019/07/30/sociedade/noticia/ultimos-tres-anos-devolvidas-53-criancas-adopcao-1881728'}, {'title': 'Empresas de Portugal e Galiza suspeitas de se apropriarem de 20 milhões de fundos europeus | Justiça', 'originalURL': 'http://publico.pt/2019/08/03/sociedade/noticia/espanha-descobre-fraude-fundos-europeus-galiza-portugal-1882260', 'tstamp': '20190831150704', 'linkToNoFrame': 'https://arquivo.pt/noFrame/replay/20190831150704/http://publico.pt/2019/08/03/sociedade/noticia/espanha-descobre-fraude-fundos-europeus-galiza-portugal-1882260'}, {'title': 'Estudo reconhece capacidade do hospital militar para formar médicos | Saúde | PÚBLICO', 'originalURL': 'http://publico.pt/2019/08/30/sociedade/noticia/estudo-reconhece-capacidade-hospital-militar-formar-medicos-1884940', 'tstamp': '20190905204112', 'linkToNoFrame': 'https://arquivo.pt/noFrame/replay/20190905204112/http://publico.pt/2019/08/30/sociedade/noticia/estudo-reconhece-capacidade-hospital-militar-formar-medicos-1884940'}, {'title': 'Metro de Lisboa quer vender terreno em Sete Rios por 30 milhões | Revista de imprensa | PÚBLICO', 'originalURL': 'http://publico.pt/2019/08/09/economia/noticia/metro-quer-vender-terreno-sete-rios-30-milhoes-1882905', 'tstamp': '20190831150634', 'linkToNoFrame': 'https://arquivo.pt/noFrame/replay/20190831150634/http://publico.pt/2019/08/09/economia/noticia/metro-quer-vender-terreno-sete-rios-30-milhoes-1882905'}]\n"
     ]
    }
   ],
   "source": [
    "\n",
    "arquivo_response = []\n",
    "\n",
    "# In total 588 Publico news articles.\n",
    "arquivo_response += search_arquivo_news('', datetime(2018,10,1), date.today(), ['publico.pt noticia -js ', 'acervo.publico.pt noticia -js ']) \n",
    "\n",
    "# In total 553 Expresso news articles.\n",
    "arquivo_response += search_arquivo_news('', datetime(2018,10,1), date.today(), ['expresso.pt 2018', 'expresso.pt 2019', 'expresso.pt 2020', 'expresso.sapo.pt 2018', 'expresso.sapo.pt 2019', 'expresso.sapo.pt 2020'])\n",
    "\n",
    "# In total 37 DN news articles.\n",
    "arquivo_response += search_arquivo_news('', datetime(2018,10,1), date.today(), ['www.dn.pt politica', 'www.dn.pt sociedade', 'dn.sapo.pt politica', 'dn.sapo.pt sociedade'])\n",
    "\n",
    "# In total 101 DN news articles.\n",
    "arquivo_response += search_arquivo_news('', datetime(2018,10,1), date.today(), ['visao.sapo.pt 2018', 'visao.sapo.pt 2019', 'visao.sapo.pt 2020'])\n",
    "\n",
    "print(\"In total\", len(arquivo_response), \"arquivo items. The first 5 items are:\\n\")\n",
    "print(arquivo_response[:5])"
   ]
  },
  {
   "cell_type": "code",
   "execution_count": 41,
   "metadata": {
    "ExecuteTime": {
     "end_time": "2021-04-19T11:51:15.919483Z",
     "start_time": "2021-04-19T11:51:13.946400Z"
    },
    "scrolled": true
   },
   "outputs": [],
   "source": [
    "processed = []\n",
    "\n",
    "logger.info(\"[START PROCESSING]\")\n",
    "for arquivo_item in tqdm(arquivo_response):\n",
    "    logger.info(\"[PROCESS] Article %s\" % arquivo_item['linkToNoFrame'])\n",
    "    processed.append(process_news_piece(arquivo_item))\n",
    "    \n",
    "# Pickle processed news\n",
    "with open('processed.pkl', 'wb') as f:\n",
    "    pickle.dump(processed, f)\n",
    "    \n",
    "def default(o):\n",
    "    if isinstance(o, (datetime)):\n",
    "        return o.isoformat()\n",
    "    \n",
    "# Also output it to a JSON file\n",
    "with open('processed.json', 'w') as outfile:\n",
    "    json.dump(processed, outfile, default=default)"
   ]
  },
  {
   "cell_type": "code",
   "execution_count": 100,
   "metadata": {
    "ExecuteTime": {
     "end_time": "2021-04-14T20:30:07.248421Z",
     "start_time": "2021-04-14T20:30:06.451420Z"
    }
   },
   "outputs": [],
   "source": []
  }
 ],
 "metadata": {
  "kernelspec": {
   "display_name": "Python 3",
   "language": "python",
   "name": "python3"
  },
  "language_info": {
   "codemirror_mode": {
    "name": "ipython",
    "version": 3
   },
   "file_extension": ".py",
   "mimetype": "text/x-python",
   "name": "python",
   "nbconvert_exporter": "python",
   "pygments_lexer": "ipython3",
   "version": "3.9.1"
  },
  "varInspector": {
   "cols": {
    "lenName": 16,
    "lenType": 16,
    "lenVar": 40
   },
   "kernels_config": {
    "python": {
     "delete_cmd_postfix": "",
     "delete_cmd_prefix": "del ",
     "library": "var_list.py",
     "varRefreshCmd": "print(var_dic_list())"
    },
    "r": {
     "delete_cmd_postfix": ") ",
     "delete_cmd_prefix": "rm(",
     "library": "var_list.r",
     "varRefreshCmd": "cat(var_dic_list()) "
    }
   },
   "types_to_exclude": [
    "module",
    "function",
    "builtin_function_or_method",
    "instance",
    "_Feature"
   ],
   "window_display": false
  }
 },
 "nbformat": 4,
 "nbformat_minor": 2
}
