{
 "cells": [
  {
   "cell_type": "code",
   "execution_count": 73,
   "metadata": {
    "ExecuteTime": {
     "end_time": "2021-04-19T12:48:52.199883Z",
     "start_time": "2021-04-19T12:48:16.048352Z"
    },
    "init_cell": true
   },
   "outputs": [
    {
     "name": "stdout",
     "output_type": "stream",
     "text": [
      "The autoreload extension is already loaded. To reload it, use:\n",
      "  %reload_ext autoreload\n"
     ]
    }
   ],
   "source": [
    "%load_ext autoreload\n",
    "%autoreload 2\n",
    "%reload_ext autoreload\n",
    "\n",
    "import requests, datetime\n",
    "from datetime import date, timedelta\n",
    "from utils import *\n",
    "from newspaper import Article\n",
    "from IPython.display import clear_output\n",
    "from urllib.parse import urlencode, quote_plus\n",
    "from tqdm.notebook import tqdm\n",
    "import random\n",
    "from IPython.display import Image\n",
    "\n",
    "\n",
    "from loguru import logger\n",
    "logger.add(\"process.log\")\n",
    "\n",
    "import pickle"
   ]
  },
  {
   "cell_type": "code",
   "execution_count": 70,
   "metadata": {
    "ExecuteTime": {
     "end_time": "2021-04-19T12:20:05.253459Z",
     "start_time": "2021-04-19T12:20:03.496448Z"
    }
   },
   "outputs": [],
   "source": [
    "@logger.catch\n",
    "def search_arquivo_news(query: str, _from: datetime, _to: datetime, websites: [str], max_items=2000, _type=\"html\", fields=\"title,tstamp,originalURL,linkToNoFrame\"):\n",
    "    params = {\n",
    "        \"q\": '\"%s\"' % query,\n",
    "        \"from\": arquivo_date(_from),\n",
    "        \"to\": arquivo_date(_to),\n",
    "        \"siteSearch\": \",\".join(websites),\n",
    "        \"fields\": fields,\n",
    "        \"type\": _type,\n",
    "        \"maxItems\": max_items,\n",
    "        \"itemsPerSite\": max_items//len(websites),\n",
    "    }\n",
    "    \n",
    "    # itemsPerSite does not work\n",
    "    return query_arquivo(params, \"https://arquivo.pt/textsearch\", attempts=10)\n",
    "\n",
    "@logger.catch\n",
    "def get_random_arquivo_image(query: str, _from: datetime = datetime(2018,10,1), _to: datetime = date.today(), show=False):\n",
    "    params = {\n",
    "        \"q\": '\"%s\"' % query,\n",
    "        \"from\": arquivo_date(_from),\n",
    "        \"to\": arquivo_date(_to)\n",
    "    }\n",
    "    \n",
    "    response = query_arquivo(params, \"https://arquivo.pt/imagesearch\", attempts=10)\n",
    "    if not response: return None\n",
    "    \n",
    "    chosen_index = random.randint(0, len(response) - 1)\n",
    "    random_image = response[chosen_index]['imgLinkToArchive']\n",
    "    \n",
    "    if show: display(Image(url=random_image, width=300))\n",
    "    return random_image\n",
    "\n",
    "\n",
    "@logger.catch\n",
    "def query_arquivo(params, endpoint, timeout=30, attempts=1):\n",
    "    logger.info(\"[FETCHING] %s\" % endpoint + '?' + urlencode(params, quote_via=quote_plus))\n",
    "    \n",
    "    r = try_request(endpoint, params, timeout, attempts)\n",
    "    if not r: return []\n",
    "    json_response = r.json()\n",
    "    return json_response[\"response_items\"] if \"response_items\" in json_response else json_response[\"responseItems\"]\n",
    "\n",
    "@logger.catch\n",
    "def process_news_piece(arquivo_item):\n",
    "    \n",
    "    # Clean news piece (returns None if some scrapping error occured)\n",
    "    processing_article = clean_response_item(arquivo_item.copy())\n",
    "    if processing_article is None:\n",
    "        return {\"valid\": False}\n",
    "    \n",
    "    # Check if the arquivo link is up \n",
    "    html = try_request(processing_article[\"url\"])\n",
    "    if not html:\n",
    "        if html == False:  # resource will never be available\n",
    "            processing_article[\"valid\"] = False\n",
    "            logger.error(\"%s will never be available\" % (processing_article[\"url\"]))\n",
    "        return\n",
    "    \n",
    "    try:\n",
    "        # Process using Newspaper3k Package\n",
    "        article_obj = Article(processing_article[\"url\"], _language=\"pt\")\n",
    "        article_obj.download(input_html=html.text)\n",
    "        article_obj.parse()\n",
    "        article_obj.nlp()\n",
    "        \n",
    "        processing_article[\"text\"] = assert_valid_article(article_obj)\n",
    "        processing_article[\"image\"] = article_obj.top_image\n",
    "        processing_article[\"summary\"] = article_obj.summary\n",
    "        processing_article[\"summary_entities\"], duplicates = organize_entities(processing_article[\"text\"])\n",
    "        processing_article[\"title_entities\"], _ = organize_entities(processing_article[\"title\"], duplicates)\n",
    "        processing_article[\"valid\"] = True\n",
    "        \n",
    "    except Exception as e:\n",
    "#         print(e.with_traceback())\n",
    "        logger.error(\"[Exception] \" + str(e))\n",
    "        processing_article[\"valid\"] = False\n",
    "        \n",
    "    return processing_article\n",
    "\n",
    "# process_news_piece(arquivo_response[223])"
   ]
  },
  {
   "cell_type": "code",
   "execution_count": 39,
   "metadata": {
    "ExecuteTime": {
     "end_time": "2021-04-19T11:23:53.669382Z",
     "start_time": "2021-04-19T11:21:57.682379Z"
    },
    "scrolled": false
   },
   "outputs": [
    {
     "name": "stderr",
     "output_type": "stream",
     "text": [
      "2021-04-19 12:21:59.575 | DEBUG    | __main__:query_news:20 - [FETCHING] https://arquivo.pt/textsearch?q=%22%22&from=20181001000000&to=20210419000000&siteSearch=publico.pt+noticia+-js+%2Cacervo.publico.pt+noticia+-js+&fields=title%2Ctstamp%2CoriginalURL%2ClinkToNoFrame&type=html&maxItems=2000&itemsPerSite=1000\n",
      "2021-04-19 12:22:02.054 | DEBUG    | __main__:query_news:20 - [FETCHING] https://arquivo.pt/textsearch?q=%22%22&from=20181001000000&to=20210419000000&siteSearch=expresso.pt+2018%2Cexpresso.pt+2019%2Cexpresso.pt+2020%2Cexpresso.sapo.pt+2018%2Cexpresso.sapo.pt+2019%2Cexpresso.sapo.pt+2020&fields=title%2Ctstamp%2CoriginalURL%2ClinkToNoFrame&type=html&maxItems=2000&itemsPerSite=333\n",
      "2021-04-19 12:22:32.130 | ERROR    | utils:try_request:34 - [HTTPSConnectionPool(host='arquivo.pt', port=443): Read timed out. (read timeout=30)] for [{'q': '\"\"', 'from': '20181001000000', 'to': '20210419000000', 'siteSearch': 'expresso.pt 2018,expresso.pt 2019,expresso.pt 2020,expresso.sapo.pt 2018,expresso.sapo.pt 2019,expresso.sapo.pt 2020', 'fields': 'title,tstamp,originalURL,linkToNoFrame', 'type': 'html', 'maxItems': 2000, 'itemsPerSite': 333}] (attempt 1/10)\n",
      "2021-04-19 12:23:07.203 | ERROR    | utils:try_request:34 - [HTTPSConnectionPool(host='arquivo.pt', port=443): Read timed out. (read timeout=35)] for [{'q': '\"\"', 'from': '20181001000000', 'to': '20210419000000', 'siteSearch': 'expresso.pt 2018,expresso.pt 2019,expresso.pt 2020,expresso.sapo.pt 2018,expresso.sapo.pt 2019,expresso.sapo.pt 2020', 'fields': 'title,tstamp,originalURL,linkToNoFrame', 'type': 'html', 'maxItems': 2000, 'itemsPerSite': 333}] (attempt 2/10)\n",
      "2021-04-19 12:23:44.400 | DEBUG    | __main__:query_news:20 - [FETCHING] https://arquivo.pt/textsearch?q=%22%22&from=20181001000000&to=20210419000000&siteSearch=www.dn.pt+politica%2Cwww.dn.pt+sociedade%2Cdn.sapo.pt+politica%2Cdn.sapo.pt+sociedade&fields=title%2Ctstamp%2CoriginalURL%2ClinkToNoFrame&type=html&maxItems=2000&itemsPerSite=500\n",
      "2021-04-19 12:23:47.107 | DEBUG    | __main__:query_news:20 - [FETCHING] https://arquivo.pt/textsearch?q=%22%22&from=20181001000000&to=20210419000000&siteSearch=visao.sapo.pt+2018%2Cvisao.sapo.pt+2019%2Cvisao.sapo.pt+2020&fields=title%2Ctstamp%2CoriginalURL%2ClinkToNoFrame&type=html&maxItems=2000&itemsPerSite=666\n"
     ]
    },
    {
     "name": "stdout",
     "output_type": "stream",
     "text": [
      "In total 1279 arquivo items. The first 5 items are:\n",
      "\n",
      "[{'title': 'Praga de baratas “grandes” aflige Parque das Nações | Lisboa | PÚBLICO', 'originalURL': 'http://publico.pt/2019/08/29/local/noticia/baratas-parque-nacoes-1884816', 'tstamp': '20190831150457', 'linkToNoFrame': 'https://arquivo.pt/noFrame/replay/20190831150457/http://publico.pt/2019/08/29/local/noticia/baratas-parque-nacoes-1884816'}, {'title': 'Mais de 50 crianças adoptadas foram devolvidas nos últimos três anos | Adopção | PÚBLICO', 'originalURL': 'http://publico.pt/2019/07/30/sociedade/noticia/ultimos-tres-anos-devolvidas-53-criancas-adopcao-1881728', 'tstamp': '20190831150900', 'linkToNoFrame': 'https://arquivo.pt/noFrame/replay/20190831150900/http://publico.pt/2019/07/30/sociedade/noticia/ultimos-tres-anos-devolvidas-53-criancas-adopcao-1881728'}, {'title': 'Empresas de Portugal e Galiza suspeitas de se apropriarem de 20 milhões de fundos europeus | Justiça', 'originalURL': 'http://publico.pt/2019/08/03/sociedade/noticia/espanha-descobre-fraude-fundos-europeus-galiza-portugal-1882260', 'tstamp': '20190831150704', 'linkToNoFrame': 'https://arquivo.pt/noFrame/replay/20190831150704/http://publico.pt/2019/08/03/sociedade/noticia/espanha-descobre-fraude-fundos-europeus-galiza-portugal-1882260'}, {'title': 'Estudo reconhece capacidade do hospital militar para formar médicos | Saúde | PÚBLICO', 'originalURL': 'http://publico.pt/2019/08/30/sociedade/noticia/estudo-reconhece-capacidade-hospital-militar-formar-medicos-1884940', 'tstamp': '20190905204112', 'linkToNoFrame': 'https://arquivo.pt/noFrame/replay/20190905204112/http://publico.pt/2019/08/30/sociedade/noticia/estudo-reconhece-capacidade-hospital-militar-formar-medicos-1884940'}, {'title': 'Metro de Lisboa quer vender terreno em Sete Rios por 30 milhões | Revista de imprensa | PÚBLICO', 'originalURL': 'http://publico.pt/2019/08/09/economia/noticia/metro-quer-vender-terreno-sete-rios-30-milhoes-1882905', 'tstamp': '20190831150634', 'linkToNoFrame': 'https://arquivo.pt/noFrame/replay/20190831150634/http://publico.pt/2019/08/09/economia/noticia/metro-quer-vender-terreno-sete-rios-30-milhoes-1882905'}]\n"
     ]
    }
   ],
   "source": [
    "\n",
    "arquivo_response = []\n",
    "\n",
    "# In total 588 Publico news articles.\n",
    "arquivo_response += search_arquivo_news('', datetime(2018,10,1), date.today(), ['publico.pt noticia -js ', 'acervo.publico.pt noticia -js ']) \n",
    "\n",
    "# In total 553 Expresso news articles.\n",
    "arquivo_response += search_arquivo_news('', datetime(2018,10,1), date.today(), ['expresso.pt 2018', 'expresso.pt 2019', 'expresso.pt 2020', 'expresso.sapo.pt 2018', 'expresso.sapo.pt 2019', 'expresso.sapo.pt 2020'])\n",
    "\n",
    "# In total 37 DN news articles.\n",
    "arquivo_response += search_arquivo_news('', datetime(2018,10,1), date.today(), ['www.dn.pt politica', 'www.dn.pt sociedade', 'dn.sapo.pt politica', 'dn.sapo.pt sociedade'])\n",
    "\n",
    "# In total 101 DN news articles.\n",
    "arquivo_response += search_arquivo_news('', datetime(2018,10,1), date.today(), ['visao.sapo.pt 2018', 'visao.sapo.pt 2019', 'visao.sapo.pt 2020'])\n",
    "\n",
    "print(\"In total\", len(arquivo_response), \"arquivo items. The first 5 items are:\\n\")\n",
    "print(arquivo_response[:5])"
   ]
  },
  {
   "cell_type": "code",
   "execution_count": 41,
   "metadata": {
    "ExecuteTime": {
     "end_time": "2021-04-19T11:51:15.919483Z",
     "start_time": "2021-04-19T11:51:13.946400Z"
    },
    "scrolled": true
   },
   "outputs": [],
   "source": [
    "processed = []\n",
    "\n",
    "logger.info(\"[START PROCESSING]\")\n",
    "for arquivo_item in tqdm(arquivo_response):\n",
    "    logger.info(\"[PROCESS] Article %s\" % arquivo_item['linkToNoFrame'])\n",
    "    processed.append(process_news_piece(arquivo_item))\n",
    "    \n",
    "# Pickle processed news\n",
    "with open('processed.pkl', 'wb') as f:\n",
    "    pickle.dump(processed, f)\n",
    "    \n",
    "def default(o):\n",
    "    if isinstance(o, (datetime)):\n",
    "        return o.isoformat()\n",
    "    \n",
    "# Also output it to a JSON file\n",
    "with open('processed.json', 'w') as outfile:\n",
    "    json.dump(processed, outfile, default=default)"
   ]
  },
  {
   "cell_type": "code",
   "execution_count": 94,
   "metadata": {
    "ExecuteTime": {
     "end_time": "2021-04-19T13:32:13.272569Z",
     "start_time": "2021-04-19T13:32:10.850574Z"
    }
   },
   "outputs": [
    {
     "name": "stderr",
     "output_type": "stream",
     "text": [
      "2021-04-19 14:32:13.249 | INFO     | utils:is_duplicate:198 - DUP [Patrick William, Patrick, s1=0.50, s2=1.00, ji=0.50] : Patrick\n"
     ]
    },
    {
     "name": "stdout",
     "output_type": "stream",
     "text": [
      "{'title': 'FC Mourinha soma nova vitória e lidera à condição', 'original_title': 'Famalicão soma nova vitória e lidera à condição | Futebol | PÚBLICO', 'original_url': 'http://publico.pt/2019/08/16/desporto/noticia/famalicao-soma-nova-vitoria-lidera-condicao-1883636', 'url': 'https://arquivo.pt/noFrame/replay/20190831132137/http://publico.pt/2019/08/16/desporto/noticia/famalicao-soma-nova-vitoria-lidera-condicao-1883636', 'timestamp': datetime.datetime(2019, 8, 31, 13, 21, 37), 'website': 'publico.pt', 'text': 'Uma bomba do defesa Patrick William, na cobrança de um livre directo (66’), garantiu esta sexta-feira, ante o Rio Ave, a segunda vitória (1-0) do Famalicão e a liderança provisória do campeonato, com seis pontos em dois jogos e sem qualquer golo sofrido. No regresso a casa, na condição de primodivisionário, 25 anos depois do último encontro disputado entre a elite, os famalicenses superaram o Rio Ave de Carlos Carvalhal, que fez a estreia na prova.\\n\\nO equilíbrio imperou numa noite marcada por algumas picardias: o árbitro começou por perdoar uma entrada dura de Nehuen sobre Diego Lopes (23’), poupando depois Tarantini após reacção reprovável e evitando duas expulsões.\\n\\nSeguiram-se algumas tentativas tímidas de chegar ao golo, em que o remate de Messias à barra da baliza de Defendi foi a mais flagrante. Messias acabaria expulso quatro minutos depois, por travar Lameiras à entrada da área, originando o livre de que resultou o golo de Patrick.\\n\\nO Rio Ave reagiu e teve um golo anulado a Carlos Mané (86’), por posição irregular. Os vila-condenses dispuseram ainda de uma ocasião de ouro para igualar, mas Filipe Augusto falhou o penálti cometido por Tymon sobre Taremi, aos 90+2’.', 'image': 'https://arquivo.pt/noFrame/replay/20190831132137/https://imagens.publico.pt/imagens.aspx/1385745?tp=UH&db=IMAGENS&type=JPG&share=1&o=BarraFacebook_Publico.png', 'summary': 'Uma bomba do defesa Patrick William, na cobrança de um livre directo (66’), garantiu esta sexta-feira, ante o Rio Ave, a segunda vitória (1-0) do FC Mourinha e a liderança provisória do campeonato, com seis pontos em dois jogos e sem qualquer golo sofrido.\\nNo regresso a casa, na condição de primodivisionário, 25 anos depois do último encontro disputado entre a elite, os famalicenses superaram o Rio Ave de Fábio Oliveira, que fez a estreia na prova.\\nMessias acabaria expulso quatro minutos depois, por travar Lameiras à entrada da área, originando o livre de que resultou o golo de Patrick.\\nO Rio Ave reagiu e teve um golo anulado a Carlos Mané (86’), por posição irregular.\\nOs vila-condenses dispuseram ainda de uma ocasião de ouro para igualar, mas Filipe Augusto falhou o penálti cometido por Tymon sobre Taremi, aos 90+2’.', 'summary_entities': {'PER': {'Carlos Carvalhal': [(407, 423)], 'Diego Lopes': [(580, 591)], 'Tarantini': [(615, 624)], 'Patrick': [(945, 952), (20, 35)], 'Carlos Mané': [(997, 1008)], 'Filipe Augusto': [(1115, 1129)], 'Tymon': [(1160, 1165)]}, 'LOC': {'Rio Ave': [(110, 117), (396, 403), (957, 964)], 'Famalicão': [(146, 155)], 'Defendi': [(783, 790)], 'Lameiras': [(872, 880)]}, 'MISC': {'Nehuen': [(567, 573)], 'Messias': [(754, 761), (813, 820)]}, 'ORG': {'Taremi': [(1172, 1178)]}}, 'title_entities': {'LOC': {'Famalicão': [(0, 9)]}}, 'valid': True, 'generated': True}\n"
     ]
    }
   ],
   "source": [
    "change_entities = {\n",
    "    'PER': ('Carlos Carvalhal', 'Fábio Oliveira'),\n",
    "    'LOC': ('Famalicão', 'FC Mourinha') # ner ... pls \n",
    "}\n",
    "\n",
    "def replace_text(text, new_text, initial_char, final_char):\n",
    "    return text[:initial_char] + new_text + text[final_char:]\n",
    "\n",
    "def mix_entities(text, entities, change_entities):\n",
    "    for label, (entity_before, entity_after) in change_entities.items():\n",
    "        if label in entities.keys() and entity_before in entities[label].keys():\n",
    "            appearances = entities[label][entity_before]\n",
    "            for initial_char, final_char in appearances:\n",
    "                text = replace_text(text, entity_after, initial_char, final_char)\n",
    "    return text\n",
    "\n",
    "article = process_news_piece(arquivo_response[223])\n",
    "article['summary'] = mix_entities(article['summary'], article['summary_entities'], change_entities)\n",
    "article['title'] = mix_entities(article['title'], article['title_entities'], change_entities)\n",
    "article['generated'] = True \n",
    "print(article)\n"
   ]
  }
 ],
 "metadata": {
  "kernelspec": {
   "display_name": "Python 3",
   "language": "python",
   "name": "python3"
  },
  "language_info": {
   "codemirror_mode": {
    "name": "ipython",
    "version": 3
   },
   "file_extension": ".py",
   "mimetype": "text/x-python",
   "name": "python",
   "nbconvert_exporter": "python",
   "pygments_lexer": "ipython3",
   "version": "3.9.1"
  },
  "varInspector": {
   "cols": {
    "lenName": 16,
    "lenType": 16,
    "lenVar": 40
   },
   "kernels_config": {
    "python": {
     "delete_cmd_postfix": "",
     "delete_cmd_prefix": "del ",
     "library": "var_list.py",
     "varRefreshCmd": "print(var_dic_list())"
    },
    "r": {
     "delete_cmd_postfix": ") ",
     "delete_cmd_prefix": "rm(",
     "library": "var_list.r",
     "varRefreshCmd": "cat(var_dic_list()) "
    }
   },
   "types_to_exclude": [
    "module",
    "function",
    "builtin_function_or_method",
    "instance",
    "_Feature"
   ],
   "window_display": false
  }
 },
 "nbformat": 4,
 "nbformat_minor": 2
}
